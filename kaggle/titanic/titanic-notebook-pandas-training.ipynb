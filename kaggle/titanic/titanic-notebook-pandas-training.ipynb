{
 "cells": [
  {
   "cell_type": "code",
   "execution_count": null,
   "metadata": {
    "collapsed": true
   },
   "outputs": [],
   "source": [
    "import pandas as pd\n",
    "import numpy as np\n",
    "\n",
    "import pylab as P"
   ]
  },
  {
   "cell_type": "code",
   "execution_count": null,
   "metadata": {
    "collapsed": false,
    "scrolled": true
   },
   "outputs": [],
   "source": [
    "df = pd.read_csv('./datasets/train.csv', header=0)\n",
    "\n",
    "df.info()\n",
    "df.describe()"
   ]
  },
  {
   "cell_type": "code",
   "execution_count": null,
   "metadata": {
    "collapsed": false
   },
   "outputs": [],
   "source": [
    "df[df['Age'].isnull()][['Sex', 'Pclass', 'Age']]\n",
    "\n",
    "for i in range(1,4):\n",
    "    print i, len(df[ (df['Sex'] != 'female') & (df['Pclass'] == i) ])"
   ]
  },
  {
   "cell_type": "code",
   "execution_count": null,
   "metadata": {
    "collapsed": false
   },
   "outputs": [],
   "source": [
    "df['Age'].dropna().hist(bins=16, range=(0,80), alpha = .5)\n",
    "P.show()"
   ]
  },
  {
   "cell_type": "code",
   "execution_count": null,
   "metadata": {
    "collapsed": false,
    "scrolled": false
   },
   "outputs": [],
   "source": [
    "df['Gender'] = df['Sex'].map( {'female': 0, 'male': 1} ).astype(int)\n",
    "df.head(3)"
   ]
  },
  {
   "cell_type": "code",
   "execution_count": null,
   "metadata": {
    "collapsed": false,
    "scrolled": true
   },
   "outputs": [],
   "source": [
    "df['Station'] = df['Embarked'].map( {'S': 1, 'C': 2, 'Q': 3} ).fillna(0).astype(int)\n",
    "df.head(3)"
   ]
  },
  {
   "cell_type": "code",
   "execution_count": null,
   "metadata": {
    "collapsed": false
   },
   "outputs": [],
   "source": [
    "median_ages = np.zeros((2,3))\n",
    "\n",
    "for i in range(0,2):\n",
    "    for j in range(0,3):\n",
    "        median_ages[i,j] = df[ (df['Gender'] == i) & (df['Pclass'] == j+1) ]['Age'].dropna().median() \n",
    "        \n",
    "median_ages\n",
    "\n",
    "df['AgeFill'] = df['Age']\n",
    "df.head()\n",
    "\n",
    "for i in range(0,2):\n",
    "    for j in range(0,3):\n",
    "        df.loc[ (df['Age'].isnull()) & (df['Gender'] == i) & (df['Pclass'] == j+1), 'AgeFill' ] = median_ages[i,j]\n",
    "        \n",
    "df['AgeIsNull'] = pd.isnull(df['Age']).astype(int)\n",
    "        \n",
    "df[ df['Age'].isnull() ][['Gender', 'Pclass', 'Age', 'AgeFill', 'AgeIsNull']].head(10)"
   ]
  },
  {
   "cell_type": "code",
   "execution_count": null,
   "metadata": {
    "collapsed": false
   },
   "outputs": [],
   "source": [
    "df.describe()"
   ]
  },
  {
   "cell_type": "code",
   "execution_count": null,
   "metadata": {
    "collapsed": false,
    "scrolled": true
   },
   "outputs": [],
   "source": [
    "df['FamilySize'] = df['SibSp'] + df['Parch']\n",
    "\n",
    "df['Age*Class'] = df['AgeFill'] * df['Pclass']\n",
    "\n",
    "df['FamilySize'].hist()\n",
    "P.show()\n",
    "df['Age*Class'].hist(bins=16, range=(0,250), alpha = .5)\n",
    "P.show()"
   ]
  },
  {
   "cell_type": "code",
   "execution_count": null,
   "metadata": {
    "collapsed": false
   },
   "outputs": [],
   "source": [
    "df.dtypes[df.dtypes.map( lambda x: x == 'object' )]\n",
    "\n",
    "df = df.drop(df[['Name', 'Sex', 'Age', 'Ticket', 'Cabin', 'Embarked']], axis=1)\n",
    "\n",
    "df.info()"
   ]
  },
  {
   "cell_type": "code",
   "execution_count": null,
   "metadata": {
    "collapsed": false
   },
   "outputs": [],
   "source": [
    "train_data = df.values\n",
    "train_data"
   ]
  }
 ],
 "metadata": {
  "anaconda-cloud": {},
  "kernelspec": {
   "display_name": "Python [default]",
   "language": "python",
   "name": "python2"
  },
  "language_info": {
   "codemirror_mode": {
    "name": "ipython",
    "version": 2
   },
   "file_extension": ".py",
   "mimetype": "text/x-python",
   "name": "python",
   "nbconvert_exporter": "python",
   "pygments_lexer": "ipython2",
   "version": "2.7.12"
  }
 },
 "nbformat": 4,
 "nbformat_minor": 1
}
