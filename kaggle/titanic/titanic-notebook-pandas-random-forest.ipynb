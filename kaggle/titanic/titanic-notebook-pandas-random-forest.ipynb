{
 "cells": [
  {
   "cell_type": "code",
   "execution_count": null,
   "metadata": {
    "collapsed": false
   },
   "outputs": [],
   "source": [
    "# Useful imports\n",
    "import csv as csv\n",
    "import pandas as pd\n",
    "import numpy as np\n",
    "\n",
    "import pylab as P\n",
    "\n",
    "from sklearn.ensemble import RandomForestClassifier"
   ]
  },
  {
   "cell_type": "code",
   "execution_count": null,
   "metadata": {
    "collapsed": false,
    "scrolled": true
   },
   "outputs": [],
   "source": [
    "# Read training data from file\n",
    "df = pd.read_csv('./datasets/train.csv', header=0)\n",
    "\n",
    "df.info()\n",
    "df.describe()"
   ]
  },
  {
   "cell_type": "code",
   "execution_count": null,
   "metadata": {
    "collapsed": false
   },
   "outputs": [],
   "source": [
    "df[df['Age'].isnull()][['Sex', 'Pclass', 'Age']]\n",
    "\n",
    "# Print number of men in eash class whose age is not present\n",
    "for i in range(1,4):\n",
    "    print i, len(df[ (df['Sex'] != 'female') & (df['Pclass'] == i) ])"
   ]
  },
  {
   "cell_type": "code",
   "execution_count": null,
   "metadata": {
    "collapsed": false
   },
   "outputs": [],
   "source": [
    "# Show a histogram for all non-null ages\n",
    "df['Age'].dropna().hist(bins=16, range=(0,80), alpha = .5)\n",
    "P.show()"
   ]
  },
  {
   "cell_type": "code",
   "execution_count": null,
   "metadata": {
    "collapsed": false,
    "scrolled": false
   },
   "outputs": [],
   "source": [
    "# Create gender numerous column\n",
    "df['Gender'] = df['Sex'].map( {'female': 0, 'male': 1} ).astype(int)\n",
    "df.head(3)"
   ]
  },
  {
   "cell_type": "code",
   "execution_count": null,
   "metadata": {
    "collapsed": false,
    "scrolled": true
   },
   "outputs": [],
   "source": [
    "# Create station numerous column (NA values are set to 0 as it's the most likely)\n",
    "df[ df['Embarked'].isnull() ]\n",
    "\n",
    "df['Station'] = df['Embarked'].dropna().map( {'S': 0, 'C': 1, 'Q': 2} )\n",
    "df['Station'].dropna().hist()\n",
    "P.show()\n",
    "\n",
    "df['Station'] = df['Embarked'].map( {'S': 0, 'C': 1, 'Q': 2} ).fillna(0).astype(int)\n",
    "df.head(3)"
   ]
  },
  {
   "cell_type": "code",
   "execution_count": null,
   "metadata": {
    "collapsed": false
   },
   "outputs": [],
   "source": [
    "# Create new age column and fill all null values there by median age basing on sex and class\n",
    "median_ages = np.zeros((2,3))\n",
    "\n",
    "for i in range(0,2):\n",
    "    for j in range(0,3):\n",
    "        median_ages[i,j] = df[ (df['Gender'] == i) & (df['Pclass'] == j+1) ]['Age'].dropna().median() \n",
    "        \n",
    "median_ages\n",
    "\n",
    "df['AgeFill'] = df['Age']\n",
    "df.head()\n",
    "\n",
    "for i in range(0,2):\n",
    "    for j in range(0,3):\n",
    "        df.loc[ (df['Age'].isnull()) & (df['Gender'] == i) & (df['Pclass'] == j+1), 'AgeFill' ] = median_ages[i,j]\n",
    "        \n",
    "df['AgeIsNull'] = pd.isnull(df['Age']).astype(int)\n",
    "        \n",
    "df[ df['Age'].isnull() ][['Gender', 'Pclass', 'Age', 'AgeFill', 'AgeIsNull']].head(10)"
   ]
  },
  {
   "cell_type": "code",
   "execution_count": null,
   "metadata": {
    "collapsed": false
   },
   "outputs": [],
   "source": [
    "df.describe()"
   ]
  },
  {
   "cell_type": "code",
   "execution_count": null,
   "metadata": {
    "collapsed": false,
    "scrolled": true
   },
   "outputs": [],
   "source": [
    "# Some feature engineering\n",
    "df['FamilySize'] = df['SibSp'] + df['Parch']\n",
    "\n",
    "df['Age*Class'] = df['AgeFill'] * df['Pclass']\n",
    "\n",
    "df['FamilySize'].hist()\n",
    "P.show()\n",
    "df['Age*Class'].hist(bins=16, range=(0,250), alpha = .5)\n",
    "P.show()"
   ]
  },
  {
   "cell_type": "code",
   "execution_count": null,
   "metadata": {
    "collapsed": false
   },
   "outputs": [],
   "source": [
    "# Drop unnecessary columns\n",
    "df.dtypes[df.dtypes.map( lambda x: x == 'object' )]\n",
    "\n",
    "df = df.drop(df[['PassengerId', 'Name', 'Sex', 'Age', 'Ticket', 'Cabin', 'Embarked']], axis=1)\n",
    "\n",
    "df.info()"
   ]
  },
  {
   "cell_type": "code",
   "execution_count": null,
   "metadata": {
    "collapsed": false
   },
   "outputs": [],
   "source": [
    "# Convert data to an array\n",
    "train_data = df.values\n",
    "train_data"
   ]
  },
  {
   "cell_type": "code",
   "execution_count": null,
   "metadata": {
    "collapsed": true
   },
   "outputs": [],
   "source": [
    "forest = RandomForestClassifier(n_estimators=100)\n",
    "\n",
    "# Train model\n",
    "forest = forest.fit(train_data[0::,1::], train_data[0::,0])"
   ]
  },
  {
   "cell_type": "code",
   "execution_count": null,
   "metadata": {
    "collapsed": false,
    "scrolled": true
   },
   "outputs": [],
   "source": [
    "# Load test_data\n",
    "df_test = pd.read_csv('./datasets/test.csv')\n",
    "df_test.info()"
   ]
  },
  {
   "cell_type": "code",
   "execution_count": null,
   "metadata": {
    "collapsed": false
   },
   "outputs": [],
   "source": [
    "# Create gender numerous column\n",
    "df_test['Gender'] = df_test['Sex'].map( {'female': 0, 'male': 1} ).astype(int)\n",
    "\n",
    "# Create station numerous column (NA values are set to 0)\n",
    "df_test['Station'] = df_test['Embarked'].map( {'S': 0, 'C': 1, 'Q': 2} ).astype(int)\n",
    "\n",
    "# Fill age with median values\n",
    "df_test['AgeFill'] = df_test['Age']\n",
    "\n",
    "for i in range(0,2):\n",
    "    for j in range(0,3):\n",
    "        df_test.loc[ (df_test['Age'].isnull()) & (df_test['Gender'] == i) & (df_test['Pclass'] == j+1), 'AgeFill' ] = median_ages[i,j]\n",
    "        \n",
    "df_test['AgeIsNull'] = pd.isnull(df_test['Age']).astype(int)\n",
    "\n",
    "# Fill fare with average value according to class\n",
    "mean_fare = np.zeros((1,3))\n",
    "for i in range(0,3):\n",
    "    mean_fare[0,i] = df[ df['Pclass'] == i+1 ]['Fare'].mean()\n",
    "\n",
    "for j in range(0,3):\n",
    "    df_test.loc[ (df_test['Fare'].isnull()) & (df_test['Pclass'] == j+1), 'Fare' ] = mean_fare[0, j]\n",
    "        \n",
    "df_test[ df_test['Fare'].isnull() ]"
   ]
  },
  {
   "cell_type": "code",
   "execution_count": null,
   "metadata": {
    "collapsed": true
   },
   "outputs": [],
   "source": [
    "# Some feature engineering\n",
    "df_test['FamilySize'] = df_test['SibSp'] + df_test['Parch']\n",
    "df_test['Age*Class'] = df_test['AgeFill'] * df_test['Pclass']"
   ]
  },
  {
   "cell_type": "code",
   "execution_count": null,
   "metadata": {
    "collapsed": false
   },
   "outputs": [],
   "source": [
    "# Drop unnecessary columns\n",
    "df_test_clean = df_test.drop(df_test[['PassengerId', 'Name', 'Sex', 'Age', 'Ticket', 'Cabin', 'Embarked']], axis=1)\n",
    "df_test_clean.head(3)"
   ]
  },
  {
   "cell_type": "code",
   "execution_count": null,
   "metadata": {
    "collapsed": false
   },
   "outputs": [],
   "source": [
    "# Convert data to an array\n",
    "test_data = df_test_clean.values\n",
    "test_data"
   ]
  },
  {
   "cell_type": "code",
   "execution_count": null,
   "metadata": {
    "collapsed": false
   },
   "outputs": [],
   "source": [
    "# Predict results\n",
    "output = forest.predict(test_data)\n",
    "\n",
    "# Save to the file\n",
    "predictions_file = open('genderclassmodel-random-forest.csv', 'wb')\n",
    "p = csv.writer(predictions_file)\n",
    "p.writerow(['PassengerId','Survived'])\n",
    "\n",
    "for i in xrange(len(output)):\n",
    "    p.writerow([df_test.loc[i,'PassengerId'], \"%d\" % output[i]])\n",
    "\n",
    "predictions_file.close()"
   ]
  }
 ],
 "metadata": {
  "anaconda-cloud": {},
  "kernelspec": {
   "display_name": "Python [default]",
   "language": "python",
   "name": "python2"
  },
  "language_info": {
   "codemirror_mode": {
    "name": "ipython",
    "version": 2
   },
   "file_extension": ".py",
   "mimetype": "text/x-python",
   "name": "python",
   "nbconvert_exporter": "python",
   "pygments_lexer": "ipython2",
   "version": "2.7.12"
  }
 },
 "nbformat": 4,
 "nbformat_minor": 1
}
