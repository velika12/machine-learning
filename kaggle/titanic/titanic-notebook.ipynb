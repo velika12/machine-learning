{
 "cells": [
  {
   "cell_type": "code",
   "execution_count": null,
   "metadata": {
    "collapsed": true
   },
   "outputs": [],
   "source": [
    "import csv as csv\n",
    "import numpy as np"
   ]
  },
  {
   "cell_type": "code",
   "execution_count": null,
   "metadata": {
    "collapsed": false
   },
   "outputs": [],
   "source": [
    "csv_file_object = csv.reader(open('./datasets/train.csv', 'rb'))\n",
    "header = csv_file_object.next()\n",
    "\n",
    "data = []\n",
    "\n",
    "for row in csv_file_object:\n",
    "    data.append(row)\n",
    "    \n",
    "data = np.array(data)\n",
    "\n",
    "print data"
   ]
  },
  {
   "cell_type": "code",
   "execution_count": null,
   "metadata": {
    "collapsed": false
   },
   "outputs": [],
   "source": [
    "num_passengers = np.size(data[0::,1].astype(np.float))\n",
    "num_survived = np.sum(data[0::,1].astype(np.float))\n",
    "proportion_survivors = num_survived / num_passengers\n",
    "\n",
    "print num_passengers\n",
    "print num_survived\n",
    "print proportion_survivors"
   ]
  },
  {
   "cell_type": "code",
   "execution_count": null,
   "metadata": {
    "collapsed": false
   },
   "outputs": [],
   "source": [
    "women_only_stats = data[0::,4] == 'female'\n",
    "men_only_stats = data[0::,4] != 'female'\n",
    "\n",
    "women_onboard = data[women_only_stats,1].astype(np.float)\n",
    "men_onboard = data[men_only_stats,1].astype(np.float)\n",
    "\n",
    "proportion_women_survived = np.sum(women_onboard) / np.size(women_onboard)\n",
    "proportion_men_survived = np.sum(men_onboard) / np.size(men_onboard)\n",
    "\n",
    "print 'Proportion of women who survived is %s' % proportion_women_survived\n",
    "print 'Proportion of men who survived is %s' % proportion_men_survived"
   ]
  },
  {
   "cell_type": "code",
   "execution_count": null,
   "metadata": {
    "collapsed": true
   },
   "outputs": [],
   "source": [
    "test_file = open('./datasets/test.csv', 'rb')\n",
    "test_file_object = csv.reader(test_file)\n",
    "\n",
    "header = test_file_object.next()\n",
    "\n",
    "prediction_file = open('genderbasedmodel.csv', 'wb')\n",
    "prediction_file_object = csv.writer(prediction_file)\n",
    "\n",
    "prediction_file_object.writerow([\"PassengerId\", \"Survived\"])\n",
    "\n",
    "for row in test_file_object:\n",
    "    if row[3] == 'female':\n",
    "        prediction_file_object.writerow([row[0],'1'])\n",
    "    else:\n",
    "        prediction_file_object.writerow([row[0],'0'])\n",
    "        \n",
    "test_file.close()\n",
    "prediction_file.close()"
   ]
  },
  {
   "cell_type": "code",
   "execution_count": null,
   "metadata": {
    "collapsed": false
   },
   "outputs": [],
   "source": [
    "fare_ceiling = 40\n",
    "data[ data[0::,9].astype(np.float) >= fare_ceiling,9] = fare_ceiling - 1.0\n",
    "\n",
    "fare_bracket_size = 10\n",
    "number_of_price_brackets = fare_ceiling / fare_bracket_size\n",
    "\n",
    "number_of_classes = len(np.unique(data[0::,2]))\n",
    "\n",
    "survival_table = np.zeros((2, number_of_classes, number_of_price_brackets))"
   ]
  },
  {
   "cell_type": "code",
   "execution_count": null,
   "metadata": {
    "collapsed": false
   },
   "outputs": [],
   "source": [
    "for i in xrange(number_of_classes):\n",
    "    for j in xrange(number_of_price_brackets):\n",
    "        women_only_stats = data[\\\n",
    "            (data[0::,4] == 'female')\\\n",
    "            &(data[0::,2].astype(np.float) == i+1)\\\n",
    "            &(data[0::,9].astype(np.float) >= j*fare_bracket_size) & (data[0::,9].astype(np.float) < (j+1)*fare_bracket_size)\\\n",
    "        ,1]\n",
    "        \n",
    "        men_only_stats = data[\\\n",
    "            (data[0::,4] != 'female')\\\n",
    "            &(data[0::,2].astype(np.float) == i+1)\\\n",
    "            &(data[0::,9].astype(np.float) >= j*fare_bracket_size) & (data[0::,9].astype(np.float) < (j+1)*fare_bracket_size)\\\n",
    "        ,1]\n",
    "        \n",
    "        survival_table[0,i,j] = np.mean(women_only_stats.astype(np.float))\n",
    "        survival_table[1,i,j] = np.mean(men_only_stats.astype(np.float))\n",
    "        \n",
    "survival_table[survival_table != survival_table] = 0\n",
    "        \n",
    "print survival_table\n",
    "\n",
    "survival_table[survival_table >= 0.5] = 1\n",
    "survival_table[survival_table < 0.5] = 0\n",
    "\n",
    "print survival_table"
   ]
  },
  {
   "cell_type": "code",
   "execution_count": null,
   "metadata": {
    "collapsed": true
   },
   "outputs": [],
   "source": [
    "test_file = open('./datasets/test.csv', 'rb')\n",
    "test_file_object = csv.reader(test_file)\n",
    "header = test_file_object.next()\n",
    "predictions_file = open('genderclassmodel.csv', 'wb')\n",
    "p = csv.writer(predictions_file)\n",
    "p.writerow(['PassengerId','Survived'])"
   ]
  },
  {
   "cell_type": "code",
   "execution_count": null,
   "metadata": {
    "collapsed": false
   },
   "outputs": [],
   "source": [
    "for row in test_file_object:\n",
    "    for j in xrange(number_of_price_brackets):\n",
    "        try:\n",
    "            row[8] = float(row[8])\n",
    "        except:\n",
    "            bin_fare = 3 - float(row[1])\n",
    "            break\n",
    "        if row[8] > fare_ceiling:\n",
    "            bin_fare = number_of_price_brackets - 1\n",
    "            break\n",
    "        if (row[8] >= j*fare_bracket_size) & (row[8] < (j+1)*fare_bracket_size):\n",
    "            bin_fare = j\n",
    "            break\n",
    "            \n",
    "    if row[3] == 'female':\n",
    "        p.writerow([row[0], \"%d\" % int(survival_table[0, float(row[1]) - 1, bin_fare])])\n",
    "    else:\n",
    "        p.writerow([row[0], \"%d\" % int(survival_table[1, float(row[1]) - 1, bin_fare])])\n",
    "        \n",
    "test_file.close()\n",
    "predictions_file.close()"
   ]
  },
  {
   "cell_type": "code",
   "execution_count": null,
   "metadata": {
    "collapsed": false
   },
   "outputs": [],
   "source": [
    "    "
   ]
  }
 ],
 "metadata": {
  "anaconda-cloud": {},
  "kernelspec": {
   "display_name": "Python [default]",
   "language": "python",
   "name": "python2"
  },
  "language_info": {
   "codemirror_mode": {
    "name": "ipython",
    "version": 2
   },
   "file_extension": ".py",
   "mimetype": "text/x-python",
   "name": "python",
   "nbconvert_exporter": "python",
   "pygments_lexer": "ipython2",
   "version": "2.7.12"
  }
 },
 "nbformat": 4,
 "nbformat_minor": 1
}
