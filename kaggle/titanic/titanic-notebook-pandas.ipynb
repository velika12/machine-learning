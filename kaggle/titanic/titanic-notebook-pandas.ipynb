{
 "cells": [
  {
   "cell_type": "code",
   "execution_count": null,
   "metadata": {
    "collapsed": true
   },
   "outputs": [],
   "source": [
    "# Useful imports\n",
    "import numpy as np\n",
    "import pandas as pd"
   ]
  },
  {
   "cell_type": "code",
   "execution_count": null,
   "metadata": {
    "collapsed": false
   },
   "outputs": [],
   "source": [
    "# Read training data from file\n",
    "df = pd.read_csv('./datasets/train.csv', header=0)\n",
    "\n",
    "df.info()"
   ]
  },
  {
   "cell_type": "code",
   "execution_count": null,
   "metadata": {
    "collapsed": false
   },
   "outputs": [],
   "source": [
    "df"
   ]
  },
  {
   "cell_type": "code",
   "execution_count": null,
   "metadata": {
    "collapsed": false
   },
   "outputs": [],
   "source": [
    "# Get statistics of survived people based on gender\n",
    "number_passengers = len(df['PassengerId'])\n",
    "number_survived = np.sum(df['Survived'].astype(np.float))\n",
    "proportion_survivors = number_survived / number_passengers\n",
    "\n",
    "women_only_stats = np.sum(df[ df['Sex'] == 'female' ]['Survived'].astype(np.float))\n",
    "men_only_stats = np.sum(df[ df['Sex'] != 'female' ]['Survived'].astype(np.float))\n",
    "\n",
    "women_onboard = len(df[ df['Sex'] == 'female' ])\n",
    "men_onboard = len(df[ df['Sex'] != 'female' ])\n",
    "\n",
    "proportion_women_survived = women_only_stats / women_onboard\n",
    "proportion_men_survived = men_only_stats / men_onboard\n",
    "\n",
    "print 'Passengers: %d' % number_passengers\n",
    "print 'Survived: %d' % number_survived\n",
    "print 'Proportion: %f' % proportion_survivors\n",
    "print '---'\n",
    "print 'Women onboard: %d' % women_onboard\n",
    "print 'Men onboard: %d' % men_onboard\n",
    "print 'Women survived: %d' % women_only_stats\n",
    "print 'Men survived: %d' % men_only_stats\n",
    "print 'Women proportion: %f' % proportion_women_survived\n",
    "print 'Men proportion: %f' % proportion_men_survived"
   ]
  },
  {
   "cell_type": "code",
   "execution_count": null,
   "metadata": {
    "collapsed": false
   },
   "outputs": [],
   "source": [
    "# Read test data from file\n",
    "df_test = pd.read_csv('./datasets/test.csv', header=0)\n",
    "df_test.info()"
   ]
  },
  {
   "cell_type": "code",
   "execution_count": null,
   "metadata": {
    "collapsed": false,
    "scrolled": true
   },
   "outputs": [],
   "source": [
    "# Use the simplest gender model to predict who will survive (women survive, men don't)\n",
    "df_model0 = pd.DataFrame(columns=['PassengerId', 'Survived'])\n",
    "\n",
    "df_model0['PassengerId'] = df_test['PassengerId']\n",
    "df_model0['Survived'] = df_test['Sex'].map({'female': 1, 'male': 0}).astype(int)\n",
    "\n",
    "# Write results to file\n",
    "df_model0.to_csv('./results/genderbasedmodel-pandas.csv', index=False)"
   ]
  },
  {
   "cell_type": "code",
   "execution_count": null,
   "metadata": {
    "collapsed": false
   },
   "outputs": [],
   "source": [
    "# Prepare to train model based on gender, class and fare\n",
    "fare_ceiling = 40\n",
    "\n",
    "df['LimitedFare'] = df['Fare']\n",
    "df.loc[df['LimitedFare'] >= fare_ceiling,'LimitedFare'] = fare_ceiling - 1.0\n",
    "\n",
    "fare_bracket_size = 10\n",
    "number_of_price_brackets = fare_ceiling / fare_bracket_size\n",
    "\n",
    "number_of_classes = len(np.unique(df['Pclass']))\n",
    "\n",
    "survival_table = np.zeros((2, number_of_classes, number_of_price_brackets))"
   ]
  },
  {
   "cell_type": "code",
   "execution_count": null,
   "metadata": {
    "collapsed": false
   },
   "outputs": [],
   "source": [
    "# Train (fill the survival_table)\n",
    "for i in xrange(number_of_classes):\n",
    "    for j in xrange(number_of_price_brackets):\n",
    "        women_only_stats = df.loc[\\\n",
    "            (df['Sex'] == 'female')\\\n",
    "            & (df['Pclass'] == i+1)\\\n",
    "            & (df['LimitedFare'] >= j*fare_bracket_size)\\\n",
    "            & (df['LimitedFare'] < (j+1)*fare_bracket_size)\\\n",
    "        , 'Survived']\n",
    "        \n",
    "        men_only_stats = df.loc[\\\n",
    "            (df['Sex'] != 'female')\\\n",
    "            & (df['Pclass'] == i+1)\\\n",
    "            & (df['LimitedFare'] >= j*fare_bracket_size)\\\n",
    "            & (df['LimitedFare'] < (j+1)*fare_bracket_size)\\\n",
    "        , 'Survived']\n",
    "        \n",
    "        survival_table[0,i,j] = women_only_stats.astype(np.float).mean()\n",
    "        survival_table[1,i,j] = men_only_stats.astype(np.float).mean()\n",
    "        \n",
    "survival_table[survival_table != survival_table] = 0\n",
    "\n",
    "# Set probabilities of survival to 0 or 1\n",
    "survival_table[survival_table >= 0.5] = 1\n",
    "survival_table[survival_table < 0.5] = 0                               "
   ]
  },
  {
   "cell_type": "code",
   "execution_count": null,
   "metadata": {
    "collapsed": false
   },
   "outputs": [],
   "source": [
    "# Set gender as 0 or 1 according to sex\n",
    "df_test['Gender'] = df_test['Sex'].map( {'female': 0, 'male': 1} ) \n",
    "\n",
    "# Set fare bin for each test record (from 0 to number_of_price_brackets-1)\n",
    "df_test.loc[df_test['Fare'].isnull(), 'FareBin'] = 3 - df_test.loc[ df_test['Fare'].isnull(), 'Pclass']\n",
    "df_test.loc[df_test['Fare'].notnull() & (df_test['Fare'] >= fare_ceiling), 'FareBin'] = number_of_price_brackets-1\n",
    "for i in xrange(number_of_price_brackets):\n",
    "    df_test.loc[\\\n",
    "        (df_test['Fare'].notnull())\\\n",
    "        & (df_test['Fare'] >= i*fare_bracket_size)\\\n",
    "        & (df_test['Fare'] < (i+1)*fare_bracket_size), 'FareBin'\\\n",
    "    ] = i\n",
    "\n",
    "df_test['FareBin'] = df_test['FareBin'].astype(int)   \n",
    "\n",
    "df_test.info()\n",
    "\n",
    "# Use gender, class and fare bin to predict who will survive\n",
    "df_model1 = pd.DataFrame(columns=['PassengerId', 'Survived'])\n",
    "df_model1['PassengerId'] = df_test['PassengerId']\n",
    "df_model1['Survived'] = survival_table[ df_test['Gender'], df_test['Pclass']-1, df_test['FareBin'] ].astype(int)\n",
    "\n",
    "# Write results to file\n",
    "df_model1.to_csv('./results/genderclassmodel-pandas.csv', index=False)"
   ]
  }
 ],
 "metadata": {
  "anaconda-cloud": {},
  "kernelspec": {
   "display_name": "Python [default]",
   "language": "python",
   "name": "python2"
  },
  "language_info": {
   "codemirror_mode": {
    "name": "ipython",
    "version": 2
   },
   "file_extension": ".py",
   "mimetype": "text/x-python",
   "name": "python",
   "nbconvert_exporter": "python",
   "pygments_lexer": "ipython2",
   "version": "2.7.12"
  }
 },
 "nbformat": 4,
 "nbformat_minor": 1
}
